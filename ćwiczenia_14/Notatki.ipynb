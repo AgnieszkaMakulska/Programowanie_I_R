{
 "cells": [
  {
   "cell_type": "markdown",
   "id": "50a9c65d",
   "metadata": {},
   "source": [
    "# Iteratory\n",
    "\n",
    "Iterator to obiekt, który umożliwia przechodzenie po wszystkich elementach kolekcji (listy, krotki itp.) pojedynczo, element po elemencie.\n",
    "\n",
    "Przestrzega protokołu iteratora, co oznacza, że musi implementować:\n",
    "\n",
    "`__iter__()` → zwraca sam obiekt iteratora.\n",
    "\n",
    "`__next__()` → zwraca następny element w sekwencji. Gdy nie ma więcej elementów, zgłasza wyjątek StopIteration.\n",
    "\n",
    "Iteratory pozwalają oszczędzać pamięć i są wywoływane automatycznie \"wewnątrz\" Pythona, np. kiedy używamy pętli for.\n",
    "\n",
    "Przykład użycia iteratora:"
   ]
  },
  {
   "cell_type": "code",
   "execution_count": null,
   "id": "16398d80",
   "metadata": {},
   "outputs": [],
   "source": [
    "my_list = [1, 2, 3]\n",
    "it = iter(my_list)  # iterator object\n",
    "print(next(it))     # 1\n",
    "print(next(it))     # 2\n",
    "print(next(it))     # 3\n",
    "#print(next(it))     # stop iteration (error)"
   ]
  },
  {
   "cell_type": "markdown",
   "id": "c25cd823",
   "metadata": {},
   "source": [
    "Napisz własną klasę CountDown, która będzie tworzyć iterator odliczający od n do 0.\n",
    "Na przykład:\n",
    "```\n",
    "for num in CountDown(3):\n",
    "   print(num)\n",
    "```\n",
    "powinno zwracać\n",
    "3\n",
    "2\n",
    "1\n",
    "0"
   ]
  },
  {
   "cell_type": "code",
   "execution_count": null,
   "id": "a30b5fb2",
   "metadata": {},
   "outputs": [],
   "source": [
    "class CountDown:\n",
    "    def __init__(self, n):\n",
    "        self.n = n\n",
    "\n",
    "    def __iter__(self):\n",
    "        return self\n",
    "\n",
    "    def __next__(self):\n",
    "        if self.n >= 0:\n",
    "            value = self.n\n",
    "            self.n -= 1\n",
    "            return value\n",
    "        else:\n",
    "            raise StopIteration()\n",
    "        \n",
    "for num in CountDown(3):\n",
    "   print(num)\n",
    "\n",
    "# c = CountDown(3)\n",
    "# print(next(c))  # 3\n",
    "# print(next(c))  # 2\n",
    "# print(next(c))  # 1"
   ]
  },
  {
   "cell_type": "markdown",
   "id": "b6f26c58",
   "metadata": {},
   "source": [
    "# Generatory\n",
    "Generator to rodzaj iteratora, który wykorzystuje wyrażenie `yield`. Na przykład:"
   ]
  },
  {
   "cell_type": "code",
   "execution_count": null,
   "id": "378a15a0",
   "metadata": {},
   "outputs": [],
   "source": [
    "def count_up_to(n):\n",
    "    count = 1\n",
    "    while count <= n:\n",
    "        yield count\n",
    "        count += 1\n",
    "\n",
    "for num in count_up_to(3):\n",
    "    print(num)"
   ]
  },
  {
   "cell_type": "markdown",
   "id": "39d38754",
   "metadata": {},
   "source": [
    "Funkcja `count_up_to(n)` jest generatorem, który generuje sekwencję liczb od 1 do n.\n",
    "\n",
    "W każdej iteracji funkcja działa, aż napotka wyrażenie `yield`, wtedy zwraca aktualną wartość zmiennej `count`. Gdy żądana jest następna wartość, wznawia działanie tuż po `yield`.\n"
   ]
  },
  {
   "cell_type": "markdown",
   "id": "45f508a1",
   "metadata": {},
   "source": [
    "**Generator Expressions** - działają podobnie do \"list comprehension\". Przykład:"
   ]
  },
  {
   "cell_type": "code",
   "execution_count": null,
   "id": "e363853f",
   "metadata": {},
   "outputs": [],
   "source": [
    "gen = (x * x for x in range(5))\n",
    "print(next(gen))  # 0 * 0\n",
    "print(next(gen))  # 1 * 1\n",
    "print(next(gen))  # 2 * 2\n",
    "print(next(gen))  # 3 * 3"
   ]
  },
  {
   "cell_type": "markdown",
   "id": "2ed249ee",
   "metadata": {},
   "source": [
    "# Obsługa wyjątków w Pythonie\n",
    "\n",
    "Blok try–except służy do obsługi wyjątków i pozwala spróbować wykonać fragment kodu i \"przechwycić\" wyjątki, jeśli się pojawią. Przykłady:\n",
    "\n"
   ]
  },
  {
   "cell_type": "code",
   "execution_count": null,
   "id": "8c30d4c2",
   "metadata": {},
   "outputs": [],
   "source": [
    "try:\n",
    "    result = 10 / 0\n",
    "except ZeroDivisionError:\n",
    "    print(\"Nie można dzielić przez zero.\")"
   ]
  },
  {
   "cell_type": "code",
   "execution_count": null,
   "id": "7cb2cb50",
   "metadata": {},
   "outputs": [],
   "source": [
    "try:\n",
    "    x = 2\n",
    "    y = 10 / x\n",
    "except ZeroDivisionError:\n",
    "    print(\"Nie można dzielić przez zero.\")  # obsługa wyjątku\n",
    "else:\n",
    "    print(f\"Wynik to {y}\")                  # jeśli nie wystąpi wyjątek\n",
    "finally:\n",
    "    print(\"Program zakończony\")             # to co jest po \"finally\" wykonuje się zawsze"
   ]
  },
  {
   "cell_type": "code",
   "execution_count": null,
   "id": "50000454",
   "metadata": {},
   "outputs": [],
   "source": [
    "# definiowanie własnego wyjątku\n",
    "def sprawdz_wiek(wiek):\n",
    "    if wiek < 0:\n",
    "        raise ValueError(\"Wiek nie może być ujemny.\")\n",
    "\n",
    "sprawdz_wiek(-1)"
   ]
  }
 ],
 "metadata": {
  "kernelspec": {
   "display_name": "Python 3",
   "language": "python",
   "name": "python3"
  },
  "language_info": {
   "codemirror_mode": {
    "name": "ipython",
    "version": 3
   },
   "file_extension": ".py",
   "mimetype": "text/x-python",
   "name": "python",
   "nbconvert_exporter": "python",
   "pygments_lexer": "ipython3",
   "version": "3.10.12"
  }
 },
 "nbformat": 4,
 "nbformat_minor": 5
}
